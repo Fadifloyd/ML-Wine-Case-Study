{
 "cells": [
  {
   "cell_type": "markdown",
   "metadata": {
    "colab_type": "text",
    "id": "0MRC0e0KhQ0S"
   },
   "source": [
    "# Naive Bayes"
   ]
  },
  {
   "cell_type": "markdown",
   "metadata": {
    "colab_type": "text",
    "id": "LWd1UlMnhT2s"
   },
   "source": [
    "## Importing the libraries"
   ]
  },
  {
   "cell_type": "code",
   "execution_count": 1,
   "metadata": {
    "colab": {},
    "colab_type": "code",
    "id": "YvGPUQaHhXfL"
   },
   "outputs": [],
   "source": [
    "import numpy as np\n",
    "import matplotlib.pyplot as plt\n",
    "import pandas as pd"
   ]
  },
  {
   "cell_type": "markdown",
   "metadata": {
    "colab_type": "text",
    "id": "K1VMqkGvhc3-"
   },
   "source": [
    "## Importing the dataset"
   ]
  },
  {
   "cell_type": "code",
   "execution_count": 2,
   "metadata": {
    "colab": {},
    "colab_type": "code",
    "id": "M52QDmyzhh9s"
   },
   "outputs": [],
   "source": [
    "dataset = pd.read_csv('Wine.csv')\n",
    "X = dataset.iloc[:, :-1].values\n",
    "y = dataset.iloc[:, -1].values"
   ]
  },
  {
   "cell_type": "markdown",
   "metadata": {
    "colab_type": "text",
    "id": "YvxIPVyMhmKp"
   },
   "source": [
    "## Splitting the dataset into the Training set and Test set"
   ]
  },
  {
   "cell_type": "code",
   "execution_count": 3,
   "metadata": {
    "colab": {},
    "colab_type": "code",
    "id": "AVzJWAXIhxoC"
   },
   "outputs": [],
   "source": [
    "from sklearn.model_selection import train_test_split\n",
    "X_train, X_test, y_train, y_test = train_test_split(X, y, test_size = 0.25, random_state = 0)"
   ]
  },
  {
   "cell_type": "code",
   "execution_count": 4,
   "metadata": {
    "colab": {
     "base_uri": "https://localhost:8080/",
     "height": 1000
    },
    "colab_type": "code",
    "executionInfo": {
     "elapsed": 2617,
     "status": "ok",
     "timestamp": 1588494217346,
     "user": {
      "displayName": "Hadelin de Ponteves",
      "photoUrl": "https://lh3.googleusercontent.com/a-/AOh14GhEuXdT7eQweUmRPW8_laJuPggSK6hfvpl5a6WBaA=s64",
      "userId": "15047218817161520419"
     },
     "user_tz": -240
    },
    "id": "P3nS3-6r1i2B",
    "outputId": "710f3089-a4d3-40a2-d361-f6706340cc51"
   },
   "outputs": [
    {
     "name": "stdout",
     "output_type": "stream",
     "text": [
      "[[1.364e+01 3.100e+00 2.560e+00 ... 9.600e-01 3.360e+00 8.450e+02]\n",
      " [1.260e+01 2.460e+00 2.200e+00 ... 7.300e-01 1.580e+00 6.950e+02]\n",
      " [1.196e+01 1.090e+00 2.300e+00 ... 9.900e-01 3.130e+00 8.860e+02]\n",
      " ...\n",
      " [1.242e+01 1.610e+00 2.190e+00 ... 1.060e+00 2.960e+00 3.450e+02]\n",
      " [1.390e+01 1.680e+00 2.120e+00 ... 9.100e-01 3.330e+00 9.850e+02]\n",
      " [1.416e+01 2.510e+00 2.480e+00 ... 6.200e-01 1.710e+00 6.600e+02]]\n"
     ]
    }
   ],
   "source": [
    "print(X_train)"
   ]
  },
  {
   "cell_type": "code",
   "execution_count": 5,
   "metadata": {
    "colab": {
     "base_uri": "https://localhost:8080/",
     "height": 171
    },
    "colab_type": "code",
    "executionInfo": {
     "elapsed": 2612,
     "status": "ok",
     "timestamp": 1588494217346,
     "user": {
      "displayName": "Hadelin de Ponteves",
      "photoUrl": "https://lh3.googleusercontent.com/a-/AOh14GhEuXdT7eQweUmRPW8_laJuPggSK6hfvpl5a6WBaA=s64",
      "userId": "15047218817161520419"
     },
     "user_tz": -240
    },
    "id": "8dpDLojm1mVG",
    "outputId": "60265595-b47b-4ce6-ee29-2fdbfd8ee43d"
   },
   "outputs": [
    {
     "name": "stdout",
     "output_type": "stream",
     "text": [
      "[1 3 2 3 1 3 3 1 3 1 2 3 3 2 3 3 1 2 3 2 2 3 2 1 2 2 2 1 1 2 2 3 3 2 2 2 3\n",
      " 3 1 3 2 2 2 2 2 1 1 2 1 3 1 3 1 1 2 1 2 2 1 3 2 1 2 2 2 3 1 3 3 1 1 2 3 1\n",
      " 1 2 2 1 1 1 3 2 1 2 3 1 2 3 3 1 1 3 1 3 2 1 1 2 1 3 2 3 1 3 3 3 1 2 2 2 2\n",
      " 3 3 2 2 1 2 3 3 1 1 3 2 2 2 1 1 1 2 2 2 1 3]\n"
     ]
    }
   ],
   "source": [
    "print(y_train)"
   ]
  },
  {
   "cell_type": "code",
   "execution_count": 6,
   "metadata": {
    "colab": {
     "base_uri": "https://localhost:8080/",
     "height": 1000
    },
    "colab_type": "code",
    "executionInfo": {
     "elapsed": 2607,
     "status": "ok",
     "timestamp": 1588494217347,
     "user": {
      "displayName": "Hadelin de Ponteves",
      "photoUrl": "https://lh3.googleusercontent.com/a-/AOh14GhEuXdT7eQweUmRPW8_laJuPggSK6hfvpl5a6WBaA=s64",
      "userId": "15047218817161520419"
     },
     "user_tz": -240
    },
    "id": "qbb7i0DH1qui",
    "outputId": "9d4d1dfa-7acf-40aa-a77e-8c178dfa9aa3"
   },
   "outputs": [
    {
     "name": "stdout",
     "output_type": "stream",
     "text": [
      "[[1.374e+01 1.670e+00 2.250e+00 1.640e+01 1.180e+02 2.600e+00 2.900e+00\n",
      "  2.100e-01 1.620e+00 5.850e+00 9.200e-01 3.200e+00 1.060e+03]\n",
      " [1.279e+01 2.670e+00 2.480e+00 2.200e+01 1.120e+02 1.480e+00 1.360e+00\n",
      "  2.400e-01 1.260e+00 1.080e+01 4.800e-01 1.470e+00 4.800e+02]\n",
      " [1.237e+01 1.130e+00 2.160e+00 1.900e+01 8.700e+01 3.500e+00 3.100e+00\n",
      "  1.900e-01 1.870e+00 4.450e+00 1.220e+00 2.870e+00 4.200e+02]\n",
      " [1.356e+01 1.730e+00 2.460e+00 2.050e+01 1.160e+02 2.960e+00 2.780e+00\n",
      "  2.000e-01 2.450e+00 6.250e+00 9.800e-01 3.030e+00 1.120e+03]\n",
      " [1.305e+01 5.800e+00 2.130e+00 2.150e+01 8.600e+01 2.620e+00 2.650e+00\n",
      "  3.000e-01 2.010e+00 2.600e+00 7.300e-01 3.100e+00 3.800e+02]\n",
      " [1.156e+01 2.050e+00 3.230e+00 2.850e+01 1.190e+02 3.180e+00 5.080e+00\n",
      "  4.700e-01 1.870e+00 6.000e+00 9.300e-01 3.690e+00 4.650e+02]\n",
      " [1.406e+01 2.150e+00 2.610e+00 1.760e+01 1.210e+02 2.600e+00 2.510e+00\n",
      "  3.100e-01 1.250e+00 5.050e+00 1.060e+00 3.580e+00 1.295e+03]\n",
      " [1.236e+01 3.830e+00 2.380e+00 2.100e+01 8.800e+01 2.300e+00 9.200e-01\n",
      "  5.000e-01 1.040e+00 7.650e+00 5.600e-01 1.580e+00 5.200e+02]\n",
      " [1.225e+01 1.730e+00 2.120e+00 1.900e+01 8.000e+01 1.650e+00 2.030e+00\n",
      "  3.700e-01 1.630e+00 3.400e+00 1.000e+00 3.170e+00 5.100e+02]\n",
      " [1.208e+01 1.830e+00 2.320e+00 1.850e+01 8.100e+01 1.600e+00 1.500e+00\n",
      "  5.200e-01 1.640e+00 2.400e+00 1.080e+00 2.270e+00 4.800e+02]\n",
      " [1.336e+01 2.560e+00 2.350e+00 2.000e+01 8.900e+01 1.400e+00 5.000e-01\n",
      "  3.700e-01 6.400e-01 5.600e+00 7.000e-01 2.470e+00 7.800e+02]\n",
      " [1.388e+01 5.040e+00 2.230e+00 2.000e+01 8.000e+01 9.800e-01 3.400e-01\n",
      "  4.000e-01 6.800e-01 4.900e+00 5.800e-01 1.330e+00 4.150e+02]\n",
      " [1.420e+01 1.760e+00 2.450e+00 1.520e+01 1.120e+02 3.270e+00 3.390e+00\n",
      "  3.400e-01 1.970e+00 6.750e+00 1.050e+00 2.850e+00 1.450e+03]\n",
      " [1.237e+01 1.070e+00 2.100e+00 1.850e+01 8.800e+01 3.520e+00 3.750e+00\n",
      "  2.400e-01 1.950e+00 4.500e+00 1.040e+00 2.770e+00 6.600e+02]\n",
      " [1.358e+01 2.580e+00 2.690e+00 2.450e+01 1.050e+02 1.550e+00 8.400e-01\n",
      "  3.900e-01 1.540e+00 8.660e+00 7.400e-01 1.800e+00 7.500e+02]\n",
      " [1.200e+01 9.200e-01 2.000e+00 1.900e+01 8.600e+01 2.420e+00 2.260e+00\n",
      "  3.000e-01 1.430e+00 2.500e+00 1.380e+00 3.120e+00 2.780e+02]\n",
      " [1.376e+01 1.530e+00 2.700e+00 1.950e+01 1.320e+02 2.950e+00 2.740e+00\n",
      "  5.000e-01 1.350e+00 5.400e+00 1.250e+00 3.000e+00 1.235e+03]\n",
      " [1.419e+01 1.590e+00 2.480e+00 1.650e+01 1.080e+02 3.300e+00 3.930e+00\n",
      "  3.200e-01 1.860e+00 8.700e+00 1.230e+00 2.820e+00 1.680e+03]\n",
      " [1.264e+01 1.360e+00 2.020e+00 1.680e+01 1.000e+02 2.020e+00 1.410e+00\n",
      "  5.300e-01 6.200e-01 5.750e+00 9.800e-01 1.590e+00 4.500e+02]\n",
      " [1.383e+01 1.650e+00 2.600e+00 1.720e+01 9.400e+01 2.450e+00 2.990e+00\n",
      "  2.200e-01 2.290e+00 5.600e+00 1.240e+00 3.370e+00 1.265e+03]\n",
      " [1.311e+01 1.010e+00 1.700e+00 1.500e+01 7.800e+01 2.980e+00 3.180e+00\n",
      "  2.600e-01 2.280e+00 5.300e+00 1.120e+00 3.180e+00 5.020e+02]\n",
      " [1.305e+01 1.650e+00 2.550e+00 1.800e+01 9.800e+01 2.450e+00 2.430e+00\n",
      "  2.900e-01 1.440e+00 4.250e+00 1.120e+00 2.510e+00 1.105e+03]\n",
      " [1.324e+01 2.590e+00 2.870e+00 2.100e+01 1.180e+02 2.800e+00 2.690e+00\n",
      "  3.900e-01 1.820e+00 4.320e+00 1.040e+00 2.930e+00 7.350e+02]\n",
      " [1.251e+01 1.730e+00 1.980e+00 2.050e+01 8.500e+01 2.200e+00 1.920e+00\n",
      "  3.200e-01 1.480e+00 2.940e+00 1.040e+00 3.570e+00 6.720e+02]\n",
      " [1.233e+01 1.100e+00 2.280e+00 1.600e+01 1.010e+02 2.050e+00 1.090e+00\n",
      "  6.300e-01 4.100e-01 3.270e+00 1.250e+00 1.670e+00 6.800e+02]\n",
      " [1.252e+01 2.430e+00 2.170e+00 2.100e+01 8.800e+01 2.550e+00 2.270e+00\n",
      "  2.600e-01 1.220e+00 2.000e+00 9.000e-01 2.780e+00 3.250e+02]\n",
      " [1.243e+01 1.530e+00 2.290e+00 2.150e+01 8.600e+01 2.740e+00 3.150e+00\n",
      "  3.900e-01 1.770e+00 3.940e+00 6.900e-01 2.840e+00 3.520e+02]\n",
      " [1.216e+01 1.610e+00 2.310e+00 2.280e+01 9.000e+01 1.780e+00 1.690e+00\n",
      "  4.300e-01 1.560e+00 2.450e+00 1.330e+00 2.260e+00 4.950e+02]\n",
      " [1.176e+01 2.680e+00 2.920e+00 2.000e+01 1.030e+02 1.750e+00 2.030e+00\n",
      "  6.000e-01 1.050e+00 3.800e+00 1.230e+00 2.500e+00 6.070e+02]\n",
      " [1.378e+01 2.760e+00 2.300e+00 2.200e+01 9.000e+01 1.350e+00 6.800e-01\n",
      "  4.100e-01 1.030e+00 9.580e+00 7.000e-01 1.680e+00 6.150e+02]\n",
      " [1.339e+01 1.770e+00 2.620e+00 1.610e+01 9.300e+01 2.850e+00 2.940e+00\n",
      "  3.400e-01 1.450e+00 4.800e+00 9.200e-01 3.220e+00 1.195e+03]\n",
      " [1.422e+01 1.700e+00 2.300e+00 1.630e+01 1.180e+02 3.200e+00 3.000e+00\n",
      "  2.600e-01 2.030e+00 6.380e+00 9.400e-01 3.310e+00 9.700e+02]\n",
      " [1.204e+01 4.300e+00 2.380e+00 2.200e+01 8.000e+01 2.100e+00 1.750e+00\n",
      "  4.200e-01 1.350e+00 2.600e+00 7.900e-01 2.570e+00 5.800e+02]\n",
      " [1.421e+01 4.040e+00 2.440e+00 1.890e+01 1.110e+02 2.850e+00 2.650e+00\n",
      "  3.000e-01 1.250e+00 5.240e+00 8.700e-01 3.330e+00 1.080e+03]\n",
      " [1.483e+01 1.640e+00 2.170e+00 1.400e+01 9.700e+01 2.800e+00 2.980e+00\n",
      "  2.900e-01 1.980e+00 5.200e+00 1.080e+00 2.850e+00 1.045e+03]\n",
      " [1.305e+01 1.770e+00 2.100e+00 1.700e+01 1.070e+02 3.000e+00 3.000e+00\n",
      "  2.800e-01 2.030e+00 5.040e+00 8.800e-01 3.350e+00 8.850e+02]\n",
      " [1.369e+01 3.260e+00 2.540e+00 2.000e+01 1.070e+02 1.830e+00 5.600e-01\n",
      "  5.000e-01 8.000e-01 5.880e+00 9.600e-01 1.820e+00 6.800e+02]\n",
      " [1.269e+01 1.530e+00 2.260e+00 2.070e+01 8.000e+01 1.380e+00 1.460e+00\n",
      "  5.800e-01 1.620e+00 3.050e+00 9.600e-01 2.060e+00 4.950e+02]\n",
      " [1.162e+01 1.990e+00 2.280e+00 1.800e+01 9.800e+01 3.020e+00 2.260e+00\n",
      "  1.700e-01 1.350e+00 3.250e+00 1.160e+00 2.960e+00 3.450e+02]\n",
      " [1.340e+01 3.910e+00 2.480e+00 2.300e+01 1.020e+02 1.800e+00 7.500e-01\n",
      "  4.300e-01 1.410e+00 7.300e+00 7.000e-01 1.560e+00 7.500e+02]\n",
      " [1.350e+01 1.810e+00 2.610e+00 2.000e+01 9.600e+01 2.530e+00 2.610e+00\n",
      "  2.800e-01 1.660e+00 3.520e+00 1.120e+00 3.820e+00 8.450e+02]\n",
      " [1.373e+01 1.500e+00 2.700e+00 2.250e+01 1.010e+02 3.000e+00 3.250e+00\n",
      "  2.900e-01 2.380e+00 5.700e+00 1.190e+00 2.710e+00 1.285e+03]\n",
      " [1.229e+01 2.830e+00 2.220e+00 1.800e+01 8.800e+01 2.450e+00 2.250e+00\n",
      "  2.500e-01 1.990e+00 2.150e+00 1.150e+00 3.300e+00 2.900e+02]\n",
      " [1.260e+01 1.340e+00 1.900e+00 1.850e+01 8.800e+01 1.450e+00 1.360e+00\n",
      "  2.900e-01 1.350e+00 2.450e+00 1.040e+00 2.770e+00 5.620e+02]\n",
      " [1.141e+01 7.400e-01 2.500e+00 2.100e+01 8.800e+01 2.480e+00 2.010e+00\n",
      "  4.200e-01 1.440e+00 3.080e+00 1.100e+00 2.310e+00 4.340e+02]]\n"
     ]
    }
   ],
   "source": [
    "print(X_test)"
   ]
  },
  {
   "cell_type": "code",
   "execution_count": 7,
   "metadata": {
    "colab": {
     "base_uri": "https://localhost:8080/",
     "height": 68
    },
    "colab_type": "code",
    "executionInfo": {
     "elapsed": 2601,
     "status": "ok",
     "timestamp": 1588494217347,
     "user": {
      "displayName": "Hadelin de Ponteves",
      "photoUrl": "https://lh3.googleusercontent.com/a-/AOh14GhEuXdT7eQweUmRPW8_laJuPggSK6hfvpl5a6WBaA=s64",
      "userId": "15047218817161520419"
     },
     "user_tz": -240
    },
    "id": "kj1hnFAR1s5w",
    "outputId": "c9bf748e-5c96-411d-d433-53b90fb38dad"
   },
   "outputs": [
    {
     "name": "stdout",
     "output_type": "stream",
     "text": [
      "[1 3 2 1 2 2 1 3 2 2 3 3 1 2 3 2 1 1 2 1 2 1 1 2 2 2 2 2 2 3 1 1 2 1 1 1 3\n",
      " 2 2 3 1 1 2 2 2]\n"
     ]
    }
   ],
   "source": [
    "print(y_test)"
   ]
  },
  {
   "cell_type": "markdown",
   "metadata": {
    "colab_type": "text",
    "id": "kW3c7UYih0hT"
   },
   "source": [
    "## Feature Scaling"
   ]
  },
  {
   "cell_type": "code",
   "execution_count": 8,
   "metadata": {
    "colab": {},
    "colab_type": "code",
    "id": "9fQlDPKCh8sc"
   },
   "outputs": [],
   "source": [
    "from sklearn.preprocessing import StandardScaler\n",
    "sc = StandardScaler()\n",
    "X_train = sc.fit_transform(X_train)\n",
    "X_test = sc.transform(X_test)"
   ]
  },
  {
   "cell_type": "code",
   "execution_count": 9,
   "metadata": {
    "colab": {
     "base_uri": "https://localhost:8080/",
     "height": 1000
    },
    "colab_type": "code",
    "executionInfo": {
     "elapsed": 2593,
     "status": "ok",
     "timestamp": 1588494217348,
     "user": {
      "displayName": "Hadelin de Ponteves",
      "photoUrl": "https://lh3.googleusercontent.com/a-/AOh14GhEuXdT7eQweUmRPW8_laJuPggSK6hfvpl5a6WBaA=s64",
      "userId": "15047218817161520419"
     },
     "user_tz": -240
    },
    "id": "syrnD1Op2BSR",
    "outputId": "8e650ae2-fe49-4673-800d-96f19058f2a9"
   },
   "outputs": [
    {
     "name": "stdout",
     "output_type": "stream",
     "text": [
      "[[ 0.79996869  0.63400362  0.71783316 ...  0.05445565  1.0713277\n",
      "   0.31500451]\n",
      " [-0.49875982  0.06171955 -0.61072701 ... -0.93473577 -1.39249704\n",
      "  -0.18138885]\n",
      " [-1.29797736 -1.16332605 -0.24168252 ...  0.18348062  0.75296832\n",
      "   0.45068536]\n",
      " ...\n",
      " [-0.72353975 -0.69834524 -0.64763146 ...  0.48453887  0.51765922\n",
      "  -1.33964004]\n",
      " [ 1.12465081 -0.63575167 -0.90596261 ... -0.16058596  1.02980256\n",
      "   0.77830498]\n",
      " [ 1.44933294  0.10642924  0.42259757 ... -1.40782731 -1.21255479\n",
      "  -0.29721397]]\n"
     ]
    }
   ],
   "source": [
    "print(X_train)"
   ]
  },
  {
   "cell_type": "code",
   "execution_count": 10,
   "metadata": {
    "colab": {
     "base_uri": "https://localhost:8080/",
     "height": 1000
    },
    "colab_type": "code",
    "executionInfo": {
     "elapsed": 2588,
     "status": "ok",
     "timestamp": 1588494217348,
     "user": {
      "displayName": "Hadelin de Ponteves",
      "photoUrl": "https://lh3.googleusercontent.com/a-/AOh14GhEuXdT7eQweUmRPW8_laJuPggSK6hfvpl5a6WBaA=s64",
      "userId": "15047218817161520419"
     },
     "user_tz": -240
    },
    "id": "JUd6iBRp2C3L",
    "outputId": "479a69bf-8358-42ab-eaa5-990b6da228b2"
   },
   "outputs": [
    {
     "name": "stdout",
     "output_type": "stream",
     "text": [
      "[[ 9.24846426e-01 -6.44693605e-01 -4.26204768e-01 -8.86102652e-01\n",
      "   1.21559263e+00  5.53902501e-01  9.61289659e-01 -1.20875804e+00\n",
      "   1.75792404e-02  3.07541923e-01 -1.17577639e-01  8.49860304e-01\n",
      "   1.02650167e+00]\n",
      " [-2.61492111e-01  2.49500257e-01  4.22597566e-01  7.08411132e-01\n",
      "   7.99800549e-01 -1.27923050e+00 -6.08441250e-01 -9.73262700e-01\n",
      "  -5.83630781e-01  2.37335381e+00 -2.00994383e+00 -1.54475588e+00\n",
      "  -8.92886009e-01]\n",
      " [-7.85978623e-01 -1.12755829e+00 -7.58344811e-01 -1.45792681e-01\n",
      "  -9.32666438e-01  2.02695581e+00  1.16515082e+00 -1.36575493e+00\n",
      "   4.35086200e-01 -2.76728106e-01  1.17267203e+00  3.93083807e-01\n",
      "  -1.09144335e+00]\n",
      " [ 7.00066493e-01 -5.91041973e-01  3.48788667e-01  2.81309226e-01\n",
      "   1.07699527e+00  1.14312382e+00  8.38972964e-01 -1.28725649e+00\n",
      "   1.40370235e+00  4.74476217e-01  1.40472295e-01  6.14551199e-01\n",
      "   1.22505901e+00]\n",
      " [ 6.31900147e-02  3.04832705e+00 -8.69058159e-01  5.66043830e-01\n",
      "  -1.00196512e+00  5.86637019e-01  7.06463212e-01 -5.02272018e-01\n",
      "   6.68890097e-01 -1.04879922e+00 -9.34735766e-01  7.11443184e-01\n",
      "  -1.22381492e+00]\n",
      " [-1.79748832e+00 -3.04899937e-01  3.19043126e+00  2.55918606e+00\n",
      "   1.28489130e+00  1.50320352e+00  3.18337627e+00  8.32201581e-01\n",
      "   4.35086200e-01  3.70142283e-01 -7.45693170e-02  1.52810419e+00\n",
      "  -9.42525345e-01]\n",
      " [ 1.32445520e+00 -2.15480551e-01  9.02355406e-01 -5.44421127e-01\n",
      "   1.42348866e+00  5.53902501e-01  5.63760403e-01 -4.23773571e-01\n",
      "  -6.00331060e-01 -2.63266646e-02  4.84538875e-01  1.37584536e+00\n",
      "   1.80418460e+00]\n",
      " [-7.98466397e-01  1.28676514e+00  5.35530730e-02  4.23676528e-01\n",
      "  -8.63367758e-01  6.28847319e-02 -1.05693580e+00  1.06769692e+00\n",
      "  -9.51036906e-01  1.05874625e+00 -1.66587725e+00 -1.39249704e+00\n",
      "  -7.60514445e-01]\n",
      " [-9.35831912e-01 -5.91041973e-01 -9.05962608e-01 -1.45792681e-01\n",
      "  -1.41775719e+00 -1.00098710e+00  7.44936258e-02  4.72171110e-02\n",
      "   3.42795188e-02 -7.14930627e-01  2.26488940e-01  8.08335168e-01\n",
      "  -7.93607336e-01]\n",
      " [-1.14812407e+00 -5.01622587e-01 -1.67873623e-01 -2.88159983e-01\n",
      "  -1.34845851e+00 -1.08282340e+00 -4.65738440e-01  1.22469382e+00\n",
      "   5.09797972e-02 -1.13226636e+00  5.70555520e-01 -4.37418915e-01\n",
      "  -8.92886009e-01]\n",
      " [ 4.50311011e-01  1.51138933e-01 -5.71602748e-02  1.38941923e-01\n",
      "  -7.94069079e-01 -1.41016858e+00 -1.48504423e+00  4.72171110e-02\n",
      "  -1.61904804e+00  2.03207990e-01 -1.06376073e+00 -1.60584674e-01\n",
      "   9.99007197e-02]\n",
      " [ 1.09967526e+00  2.36873971e+00 -5.00013666e-01  1.38941923e-01\n",
      "  -1.41775719e+00 -2.09759345e+00 -1.64813315e+00  2.82712452e-01\n",
      "  -1.55224693e+00 -8.89270249e-02 -1.57986060e+00 -1.73853985e+00\n",
      "  -1.10798980e+00]\n",
      " [ 1.49928403e+00 -5.64216157e-01  3.11884218e-01 -1.22778418e+00\n",
      "   7.99800549e-01  1.65050885e+00  1.46074949e+00 -1.88278230e-01\n",
      "   6.02088984e-01  6.83144085e-01  4.41530552e-01  3.65400383e-01\n",
      "   2.31712441e+00]\n",
      " [-7.85978623e-01 -1.18120992e+00 -9.79771507e-01 -2.88159983e-01\n",
      "  -8.63367758e-01  2.05969033e+00  1.82769958e+00 -9.73262700e-01\n",
      "   5.68688427e-01 -2.55861319e-01  3.98522230e-01  2.54666687e-01\n",
      "  -2.97213972e-01]\n",
      " [ 7.25042041e-01  1.69022810e-01  1.19759100e+00  1.42024764e+00\n",
      "   3.14709792e-01 -1.16465969e+00 -1.13848026e+00  2.04214005e-01\n",
      "  -1.16022987e-01  1.48025534e+00 -8.91727443e-01 -1.08797938e+00\n",
      "   6.22046822e-04]\n",
      " [-1.24802626e+00 -1.31533900e+00 -1.34881600e+00 -1.45792681e-01\n",
      "  -1.00196512e+00  2.59291840e-01  3.08933956e-01 -5.02272018e-01\n",
      "  -2.99726049e-01 -1.09053279e+00  1.86080519e+00  7.39126608e-01\n",
      "  -1.56136241e+00]\n",
      " [ 9.49821974e-01 -7.69880746e-01  1.23449545e+00 -3.42537870e-03\n",
      "   2.18577414e+00  1.12675657e+00  7.98200733e-01  1.06769692e+00\n",
      "  -4.33328276e-01  1.19740843e-01  1.30169700e+00  5.73026063e-01\n",
      "   1.60562726e+00]\n",
      " [ 1.48679626e+00 -7.16229114e-01  4.22597566e-01 -8.57629192e-01\n",
      "   5.22605831e-01  1.69961063e+00  2.01117462e+00 -3.45275124e-01\n",
      "   4.18385922e-01  1.49694877e+00  1.21568036e+00  3.23875247e-01\n",
      "   3.07826090e+00]\n",
      " [-4.48808723e-01 -9.21893703e-01 -1.27500710e+00 -7.72208810e-01\n",
      "  -3.17836049e-02 -3.95398519e-01 -5.57475961e-01  1.30319226e+00\n",
      "  -1.65244860e+00  2.65808350e-01  1.40472295e-01 -1.37865533e+00\n",
      "  -9.92164682e-01]\n",
      " [ 1.03723639e+00 -6.62577482e-01  8.65450957e-01 -6.58314969e-01\n",
      "  -4.47575682e-01  3.08393616e-01  1.05302718e+00 -1.13025959e+00\n",
      "   1.13649789e+00  2.03207990e-01  1.25868868e+00  1.08516941e+00\n",
      "   1.70490593e+00]\n",
      " [ 1.38116659e-01 -1.23486155e+00 -2.45594948e+00 -1.28473110e+00\n",
      "  -1.55635455e+00  1.17585834e+00  1.24669528e+00 -8.16265806e-01\n",
      "   1.11979761e+00  7.80072691e-02  7.42588810e-01  8.22176880e-01\n",
      "  -8.20081649e-01]\n",
      " [ 6.31900147e-02 -6.62577482e-01  6.80928711e-01 -4.30527285e-01\n",
      "  -1.70380964e-01  3.08393616e-01  4.82215940e-01 -5.80770465e-01\n",
      "  -2.83025770e-01 -3.60195253e-01  7.42588810e-01 -1.05217826e-01\n",
      "   1.17541968e+00]\n",
      " [ 3.00457722e-01  1.77964748e-01  1.86187109e+00  4.23676528e-01\n",
      "   1.21559263e+00  8.81247681e-01  7.47235444e-01  2.04214005e-01\n",
      "   3.51584808e-01 -3.30981751e-01  3.98522230e-01  4.76134079e-01\n",
      "  -4.90172896e-02]\n",
      " [-6.11149786e-01 -5.91041973e-01 -1.42262490e+00  2.81309226e-01\n",
      "  -1.07126380e+00 -1.00787858e-01 -3.76300106e-02 -3.45275124e-01\n",
      "  -2.16224657e-01 -9.06905065e-01  3.98522230e-01  1.36200365e+00\n",
      "  -2.57502503e-01]\n",
      " [-8.35929719e-01 -1.15438411e+00 -3.15491420e-01 -9.99996494e-01\n",
      "   3.75150746e-02 -3.46296743e-01 -8.83653812e-01  2.08817673e+00\n",
      "  -2.00315444e+00 -7.69184273e-01  1.30169700e+00 -1.26792164e+00\n",
      "  -2.31028190e-01]\n",
      " [-5.98662011e-01  3.48937304e-02 -7.21440362e-01  4.23676528e-01\n",
      "  -8.63367758e-01  4.72066206e-01  3.19127014e-01 -8.16265806e-01\n",
      "  -6.50431895e-01 -1.29920066e+00 -2.03594284e-01  2.68508399e-01\n",
      "  -1.40582582e+00]\n",
      " [-7.11051978e-01 -7.69880746e-01 -2.78586970e-01  5.66043830e-01\n",
      "  -1.00196512e+00  7.83044127e-01  1.21611610e+00  2.04214005e-01\n",
      "   2.68083416e-01 -4.89569330e-01 -1.10676906e+00  3.51558671e-01\n",
      "  -1.31647501e+00]\n",
      " [-1.04822188e+00 -6.98345237e-01 -2.04778072e-01  9.36198816e-01\n",
      "  -7.24770399e-01 -7.88212735e-01 -2.72070341e-01  5.18207793e-01\n",
      "  -8.26224299e-02 -1.11139958e+00  1.64576358e+00 -4.51260627e-01\n",
      "  -8.43246672e-01]\n",
      " [-1.54773284e+00  2.58442196e-01  2.04639333e+00  1.38941923e-01\n",
      "   1.76112434e-01 -8.37314512e-01  7.44936258e-02  1.85268139e+00\n",
      "  -9.34336627e-01 -5.47996333e-01  1.21568036e+00 -1.19059538e-01\n",
      "  -4.72606294e-01]\n",
      " [ 9.74797522e-01  3.29977705e-01 -2.41682521e-01  7.08411132e-01\n",
      "  -7.24770399e-01 -1.49200487e+00 -1.30156918e+00  3.61210899e-01\n",
      "  -9.67737184e-01  1.86420421e+00 -1.06376073e+00 -1.25407992e+00\n",
      "  -4.46131981e-01]\n",
      " [ 4.87774333e-01 -5.55274219e-01  9.39259856e-01 -9.71523033e-01\n",
      "  -5.16874361e-01  9.63083976e-01  1.00206189e+00 -1.88278230e-01\n",
      "  -2.66325492e-01 -1.30660598e-01 -1.17577639e-01  8.77543728e-01\n",
      "   1.47325569e+00]\n",
      " [ 1.52425958e+00 -6.17867789e-01 -2.41682521e-01 -9.14576112e-01\n",
      "   1.21559263e+00  1.53593804e+00  1.06322024e+00 -8.16265806e-01\n",
      "   7.02290654e-01  5.28729863e-01 -3.15609945e-02  1.00211914e+00\n",
      "   7.28665648e-01]\n",
      " [-1.19807517e+00  1.70703625e+00  5.35530730e-02  7.08411132e-01\n",
      "  -1.41775719e+00 -2.64460448e-01 -2.10911994e-01  4.39709346e-01\n",
      "  -4.33328276e-01 -1.04879922e+00 -6.76685831e-01 -2.21675538e-02\n",
      "  -5.61957099e-01]\n",
      " [ 1.51177181e+00  1.47454585e+00  2.74979769e-01 -1.74266141e-01\n",
      "   7.30501869e-01  9.63083976e-01  7.06463212e-01 -5.02272018e-01\n",
      "  -6.00331060e-01  5.29671250e-02 -3.32619252e-01  1.02980256e+00\n",
      "   1.09268745e+00]\n",
      " [ 2.28601380e+00 -6.71519421e-01 -7.21440362e-01 -1.56946570e+00\n",
      "  -2.39679643e-01  8.81247681e-01  1.04283412e+00 -5.80770465e-01\n",
      "   6.18789262e-01  3.62736956e-02  5.70555520e-01  3.65400383e-01\n",
      "   9.76862330e-01]\n",
      " [ 6.31900147e-02 -5.55274219e-01 -9.79771507e-01 -7.15261889e-01\n",
      "   4.53307151e-01  1.20859286e+00  1.06322024e+00 -6.59268912e-01\n",
      "   7.02290654e-01 -3.05000220e-02 -2.89610929e-01  1.05748598e+00\n",
      "   4.47376075e-01]\n",
      " [ 8.62407556e-01  7.77074636e-01  6.44024261e-01  1.38941923e-01\n",
      "   4.53307151e-01 -7.06376440e-01 -1.42388588e+00  1.06769692e+00\n",
      "  -1.35184359e+00  3.20061995e-01  5.44556504e-02 -1.06029596e+00\n",
      "  -2.31028190e-01]\n",
      " [-3.86369852e-01 -7.69880746e-01 -3.89300318e-01  3.38256146e-01\n",
      "  -1.41775719e+00 -1.44290309e+00 -5.06510672e-01  1.69568450e+00\n",
      "   1.75792404e-02 -8.60998134e-01  5.44556504e-02 -7.28094867e-01\n",
      "  -8.43246672e-01]\n",
      " [-1.72256168e+00 -3.58551569e-01 -3.15491420e-01 -4.30527285e-01\n",
      "  -1.70380964e-01  1.24132738e+00  3.08933956e-01 -1.52275183e+00\n",
      "  -4.33328276e-01 -7.77530987e-01  9.14622099e-01  5.17659215e-01\n",
      "  -1.33964004e+00]\n",
      " [ 5.00262107e-01  1.35830065e+00  4.22597566e-01  9.93145736e-01\n",
      "   1.06813754e-01 -7.55478217e-01 -1.23021778e+00  5.18207793e-01\n",
      "  -3.33126606e-01  9.12678739e-01 -1.06376073e+00 -1.42018047e+00\n",
      "   6.22046822e-04]\n",
      " [ 6.25139848e-01 -5.19506464e-01  9.02355406e-01  1.38941923e-01\n",
      "  -3.08978323e-01  4.39331688e-01  6.65690981e-01 -6.59268912e-01\n",
      "   8.43803539e-02 -6.64850339e-01  7.42588810e-01  1.70804645e+00\n",
      "   3.15004511e-01]\n",
      " [ 9.12358652e-01 -7.96706562e-01  1.23449545e+00  8.50778434e-01\n",
      "   3.75150746e-02  1.20859286e+00  1.31804668e+00 -5.80770465e-01\n",
      "   1.28680040e+00  2.44941563e-01  1.04364707e+00  1.71616415e-01\n",
      "   1.77109171e+00]\n",
      " [-8.85880815e-01  3.92571275e-01 -5.36918115e-01 -4.30527285e-01\n",
      "  -8.63367758e-01  3.08393616e-01  2.98740898e-01 -8.94764253e-01\n",
      "   6.35489541e-01 -1.23660030e+00  8.71613777e-01  9.88277424e-01\n",
      "  -1.52165094e+00]\n",
      " [-4.98759819e-01 -9.39777580e-01 -1.71786049e+00 -2.88159983e-01\n",
      "  -8.63367758e-01 -1.32833228e+00 -6.08441250e-01 -5.80770465e-01\n",
      "  -4.33328276e-01 -1.11139958e+00  3.98522230e-01  2.54666687e-01\n",
      "  -6.21524303e-01]\n",
      " [-1.98480493e+00 -1.47629390e+00  4.96406464e-01  4.23676528e-01\n",
      "  -8.63367758e-01  3.57495393e-01  5.41075101e-02  4.39709346e-01\n",
      "  -2.83025770e-01 -8.48478062e-01  6.56572165e-01 -3.82052067e-01\n",
      "  -1.04511331e+00]]\n"
     ]
    }
   ],
   "source": [
    "print(X_test)"
   ]
  },
  {
   "cell_type": "markdown",
   "metadata": {},
   "source": [
    "#   Applying LDA"
   ]
  },
  {
   "cell_type": "code",
   "execution_count": 11,
   "metadata": {},
   "outputs": [],
   "source": [
    "from sklearn.discriminant_analysis import LinearDiscriminantAnalysis as LDA\n",
    "lda = LDA(n_components = 2)\n",
    "X_train = lda.fit_transform(X_train, y_train)\n",
    "X_test = lda.transform(X_test)"
   ]
  },
  {
   "cell_type": "markdown",
   "metadata": {
    "colab_type": "text",
    "id": "bb6jCOCQiAmP"
   },
   "source": [
    "## Training the Naive Bayes model on the Training set"
   ]
  },
  {
   "cell_type": "code",
   "execution_count": 12,
   "metadata": {
    "colab": {
     "base_uri": "https://localhost:8080/",
     "height": 34
    },
    "colab_type": "code",
    "executionInfo": {
     "elapsed": 2587,
     "status": "ok",
     "timestamp": 1588494217349,
     "user": {
      "displayName": "Hadelin de Ponteves",
      "photoUrl": "https://lh3.googleusercontent.com/a-/AOh14GhEuXdT7eQweUmRPW8_laJuPggSK6hfvpl5a6WBaA=s64",
      "userId": "15047218817161520419"
     },
     "user_tz": -240
    },
    "id": "e0pFVAmciHQs",
    "outputId": "6882b5ab-26fa-43c5-f9b8-5b117b2dc0b5"
   },
   "outputs": [
    {
     "data": {
      "text/plain": [
       "GaussianNB()"
      ]
     },
     "execution_count": 12,
     "metadata": {},
     "output_type": "execute_result"
    }
   ],
   "source": [
    "from sklearn.naive_bayes import GaussianNB\n",
    "classifier = GaussianNB()\n",
    "classifier.fit(X_train, y_train)"
   ]
  },
  {
   "cell_type": "markdown",
   "metadata": {
    "colab_type": "text",
    "id": "yyxW5b395mR2"
   },
   "source": [
    "## Predicting a new result"
   ]
  },
  {
   "cell_type": "code",
   "execution_count": 13,
   "metadata": {
    "colab": {
     "base_uri": "https://localhost:8080/",
     "height": 34
    },
    "colab_type": "code",
    "executionInfo": {
     "elapsed": 2582,
     "status": "ok",
     "timestamp": 1588494217349,
     "user": {
      "displayName": "Hadelin de Ponteves",
      "photoUrl": "https://lh3.googleusercontent.com/a-/AOh14GhEuXdT7eQweUmRPW8_laJuPggSK6hfvpl5a6WBaA=s64",
      "userId": "15047218817161520419"
     },
     "user_tz": -240
    },
    "id": "f8YOXsQy58rP",
    "outputId": "f813965b-988a-4e20-a410-9d5a9c45abc2"
   },
   "outputs": [],
   "source": [
    "#Predicting the single value. 7th value to be exact. If you want to predict a single value, please comment the LDA section. \n",
    "#print(classifier.predict(sc.transform([[14.39,1.87,2.45,14.6,96,2.5,2.52,0.3,1.98,5.25,1.02,3.58,1290]]))) "
   ]
  },
  {
   "cell_type": "markdown",
   "metadata": {
    "colab_type": "text",
    "id": "vKYVQH-l5NpE"
   },
   "source": [
    "## Predicting the Test set results"
   ]
  },
  {
   "cell_type": "code",
   "execution_count": 14,
   "metadata": {
    "colab": {
     "base_uri": "https://localhost:8080/",
     "height": 1000
    },
    "colab_type": "code",
    "executionInfo": {
     "elapsed": 2576,
     "status": "ok",
     "timestamp": 1588494217349,
     "user": {
      "displayName": "Hadelin de Ponteves",
      "photoUrl": "https://lh3.googleusercontent.com/a-/AOh14GhEuXdT7eQweUmRPW8_laJuPggSK6hfvpl5a6WBaA=s64",
      "userId": "15047218817161520419"
     },
     "user_tz": -240
    },
    "id": "p6VMTb2O4hwM",
    "outputId": "521c30be-051f-4309-f285-5db338f3c038"
   },
   "outputs": [
    {
     "name": "stdout",
     "output_type": "stream",
     "text": [
      "[[1 1]\n",
      " [3 3]\n",
      " [2 2]\n",
      " [1 1]\n",
      " [2 2]\n",
      " [1 2]\n",
      " [1 1]\n",
      " [3 3]\n",
      " [2 2]\n",
      " [2 2]\n",
      " [3 3]\n",
      " [3 3]\n",
      " [1 1]\n",
      " [2 2]\n",
      " [3 3]\n",
      " [2 2]\n",
      " [1 1]\n",
      " [1 1]\n",
      " [2 2]\n",
      " [1 1]\n",
      " [2 2]\n",
      " [1 1]\n",
      " [1 1]\n",
      " [2 2]\n",
      " [2 2]\n",
      " [2 2]\n",
      " [2 2]\n",
      " [2 2]\n",
      " [2 2]\n",
      " [3 3]\n",
      " [1 1]\n",
      " [1 1]\n",
      " [2 2]\n",
      " [1 1]\n",
      " [1 1]\n",
      " [1 1]\n",
      " [3 3]\n",
      " [2 2]\n",
      " [2 2]\n",
      " [3 3]\n",
      " [1 1]\n",
      " [1 1]\n",
      " [2 2]\n",
      " [2 2]\n",
      " [2 2]]\n"
     ]
    }
   ],
   "source": [
    "y_pred = classifier.predict(X_test)\n",
    "print(np.concatenate((y_pred.reshape(len(y_pred),1), y_test.reshape(len(y_test),1)),1))"
   ]
  },
  {
   "cell_type": "markdown",
   "metadata": {
    "colab_type": "text",
    "id": "h4Hwj34ziWQW"
   },
   "source": [
    "## Making the Confusion Matrix"
   ]
  },
  {
   "cell_type": "code",
   "execution_count": 15,
   "metadata": {
    "colab": {
     "base_uri": "https://localhost:8080/",
     "height": 68
    },
    "colab_type": "code",
    "executionInfo": {
     "elapsed": 2571,
     "status": "ok",
     "timestamp": 1588494217350,
     "user": {
      "displayName": "Hadelin de Ponteves",
      "photoUrl": "https://lh3.googleusercontent.com/a-/AOh14GhEuXdT7eQweUmRPW8_laJuPggSK6hfvpl5a6WBaA=s64",
      "userId": "15047218817161520419"
     },
     "user_tz": -240
    },
    "id": "D6bpZwUiiXic",
    "outputId": "9296fb4c-4d60-4d7a-b04e-35e9fa018321"
   },
   "outputs": [
    {
     "name": "stdout",
     "output_type": "stream",
     "text": [
      "[[16  0  0]\n",
      " [ 1 20  0]\n",
      " [ 0  0  8]]\n"
     ]
    },
    {
     "data": {
      "text/plain": [
       "0.9777777777777777"
      ]
     },
     "execution_count": 15,
     "metadata": {},
     "output_type": "execute_result"
    }
   ],
   "source": [
    "from sklearn.metrics import confusion_matrix, accuracy_score\n",
    "cm = confusion_matrix(y_test, y_pred)\n",
    "print(cm)\n",
    "accuracy_score(y_test, y_pred)"
   ]
  },
  {
   "cell_type": "markdown",
   "metadata": {
    "colab_type": "text",
    "id": "6OMC_P0diaoD"
   },
   "source": [
    "# Applying K-Fold Cross Validation"
   ]
  },
  {
   "cell_type": "code",
   "execution_count": 16,
   "metadata": {
    "colab": {
     "base_uri": "https://localhost:8080/",
     "height": 349
    },
    "colab_type": "code",
    "executionInfo": {
     "elapsed": 31219,
     "status": "ok",
     "timestamp": 1588494246003,
     "user": {
      "displayName": "Hadelin de Ponteves",
      "photoUrl": "https://lh3.googleusercontent.com/a-/AOh14GhEuXdT7eQweUmRPW8_laJuPggSK6hfvpl5a6WBaA=s64",
      "userId": "15047218817161520419"
     },
     "user_tz": -240
    },
    "id": "_NOjKvZRid5l",
    "outputId": "49f360d2-ab7c-45c2-9795-a9600b24d63b"
   },
   "outputs": [
    {
     "name": "stdout",
     "output_type": "stream",
     "text": [
      "Accuracy: 100.00 %\n",
      "Standard Deviation: 0.00 %\n"
     ]
    }
   ],
   "source": [
    "from sklearn.model_selection import cross_val_score\n",
    "accuracies = cross_val_score(estimator = classifier, X = X_train, y = y_train, cv = 10)\n",
    "print(\"Accuracy: {:.2f} %\".format(accuracies.mean()*100))\n",
    "print(\"Standard Deviation: {:.2f} %\".format(accuracies.std()*100))"
   ]
  },
  {
   "cell_type": "markdown",
   "metadata": {
    "colab_type": "text",
    "id": "SZ-j28aPihZx"
   },
   "source": [
    "## Visualising the Training set results"
   ]
  },
  {
   "cell_type": "code",
   "execution_count": 17,
   "metadata": {
    "colab": {
     "base_uri": "https://localhost:8080/",
     "height": 349
    },
    "colab_type": "code",
    "executionInfo": {
     "elapsed": 56235,
     "status": "ok",
     "timestamp": 1588494271024,
     "user": {
      "displayName": "Hadelin de Ponteves",
      "photoUrl": "https://lh3.googleusercontent.com/a-/AOh14GhEuXdT7eQweUmRPW8_laJuPggSK6hfvpl5a6WBaA=s64",
      "userId": "15047218817161520419"
     },
     "user_tz": -240
    },
    "id": "qeTjz2vDilAC",
    "outputId": "a7993e85-a23c-4c51-95c7-979c42039fd5"
   },
   "outputs": [
    {
     "name": "stderr",
     "output_type": "stream",
     "text": [
      "*c* argument looks like a single numeric RGB or RGBA sequence, which should be avoided as value-mapping will have precedence in case its length matches with *x* & *y*.  Please use the *color* keyword-argument or provide a 2-D array with a single row if you intend to specify the same RGB or RGBA value for all points.\n",
      "*c* argument looks like a single numeric RGB or RGBA sequence, which should be avoided as value-mapping will have precedence in case its length matches with *x* & *y*.  Please use the *color* keyword-argument or provide a 2-D array with a single row if you intend to specify the same RGB or RGBA value for all points.\n",
      "*c* argument looks like a single numeric RGB or RGBA sequence, which should be avoided as value-mapping will have precedence in case its length matches with *x* & *y*.  Please use the *color* keyword-argument or provide a 2-D array with a single row if you intend to specify the same RGB or RGBA value for all points.\n"
     ]
    },
    {
     "data": {
      "image/png": "[encoded data removed]",
      "text/plain": [
       "<Figure size 432x288 with 1 Axes>"
      ]
     },
     "metadata": {
      "needs_background": "light"
     },
     "output_type": "display_data"
    }
   ],
   "source": [
    "from matplotlib.colors import ListedColormap\n",
    "X_set, y_set = X_train, y_train\n",
    "X1, X2 = np.meshgrid(np.arange(start = X_set[:, 0].min() - 1, stop = X_set[:, 0].max() + 1, step = 0.01),\n",
    "                     np.arange(start = X_set[:, 1].min() - 1, stop = X_set[:, 1].max() + 1, step = 0.01))\n",
    "plt.contourf(X1, X2, classifier.predict(np.array([X1.ravel(), X2.ravel()]).T).reshape(X1.shape),\n",
    "             alpha = 0.75, cmap = ListedColormap(('red', 'green', 'blue')))\n",
    "plt.xlim(X1.min(), X1.max())\n",
    "plt.ylim(X2.min(), X2.max())\n",
    "for i, j in enumerate(np.unique(y_set)):\n",
    "    plt.scatter(X_set[y_set == j, 0], X_set[y_set == j, 1],\n",
    "                c = ListedColormap(('red', 'green', 'blue'))(i), label = j)\n",
    "plt.title('Logistic Regression (Training set)')\n",
    "plt.xlabel('LD1')\n",
    "plt.ylabel('LD2')\n",
    "plt.legend()\n",
    "plt.show()"
   ]
  },
  {
   "cell_type": "markdown",
   "metadata": {},
   "source": [
    "# Visualizing the Test set Results"
   ]
  },
  {
   "cell_type": "code",
   "execution_count": 18,
   "metadata": {},
   "outputs": [
    {
     "name": "stderr",
     "output_type": "stream",
     "text": [
      "*c* argument looks like a single numeric RGB or RGBA sequence, which should be avoided as value-mapping will have precedence in case its length matches with *x* & *y*.  Please use the *color* keyword-argument or provide a 2-D array with a single row if you intend to specify the same RGB or RGBA value for all points.\n",
      "*c* argument looks like a single numeric RGB or RGBA sequence, which should be avoided as value-mapping will have precedence in case its length matches with *x* & *y*.  Please use the *color* keyword-argument or provide a 2-D array with a single row if you intend to specify the same RGB or RGBA value for all points.\n",
      "*c* argument looks like a single numeric RGB or RGBA sequence, which should be avoided as value-mapping will have precedence in case its length matches with *x* & *y*.  Please use the *color* keyword-argument or provide a 2-D array with a single row if you intend to specify the same RGB or RGBA value for all points.\n"
     ]
    },
    {
     "data": {
      "image/png": "[encoded data removed]",
      "text/plain": [
       "<Figure size 432x288 with 1 Axes>"
      ]
     },
     "metadata": {
      "needs_background": "light"
     },
     "output_type": "display_data"
    }
   ],
   "source": [
    "from matplotlib.colors import ListedColormap\n",
    "X_set, y_set = X_test, y_test\n",
    "X1, X2 = np.meshgrid(np.arange(start = X_set[:, 0].min() - 1, stop = X_set[:, 0].max() + 1, step = 0.01),\n",
    "                     np.arange(start = X_set[:, 1].min() - 1, stop = X_set[:, 1].max() + 1, step = 0.01))\n",
    "plt.contourf(X1, X2, classifier.predict(np.array([X1.ravel(), X2.ravel()]).T).reshape(X1.shape),\n",
    "             alpha = 0.75, cmap = ListedColormap(('red', 'green', 'blue')))\n",
    "plt.xlim(X1.min(), X1.max())\n",
    "plt.ylim(X2.min(), X2.max())\n",
    "for i, j in enumerate(np.unique(y_set)):\n",
    "    plt.scatter(X_set[y_set == j, 0], X_set[y_set == j, 1],\n",
    "                c = ListedColormap(('red', 'green', 'blue'))(i), label = j)\n",
    "plt.title('Logistic Regression (Test set)')\n",
    "plt.xlabel('LD1')\n",
    "plt.ylabel('LD2')\n",
    "plt.legend()\n",
    "plt.show()"
   ]
  }
 ],
 "metadata": {
  "colab": {
   "authorship_tag": "ABX9TyMskY9N5l+KivrHgi4T7yWW",
   "collapsed_sections": [],
   "machine_shape": "hm",
   "name": "naive_bayes.ipynb",
   "provenance": [],
   "toc_visible": true
  },
  "kernelspec": {
   "display_name": "Python 3",
   "language": "python",
   "name": "python3"
  },
  "language_info": {
   "codemirror_mode": {
    "name": "ipython",
    "version": 3
   },
   "file_extension": ".py",
   "mimetype": "text/x-python",
   "name": "python",
   "nbconvert_exporter": "python",
   "pygments_lexer": "ipython3",
   "version": "3.8.8"
  }
 },
 "nbformat": 4,
 "nbformat_minor": 1
}
